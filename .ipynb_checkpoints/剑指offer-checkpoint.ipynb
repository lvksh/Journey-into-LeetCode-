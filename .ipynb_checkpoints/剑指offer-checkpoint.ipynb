{
 "cells": [
  {
   "cell_type": "markdown",
   "metadata": {},
   "source": [
    "## 面试题3 找出数组中重复的数字。 简单\n",
    "\n",
    "\n",
    "在一个长度为 n 的数组 nums 里的所有数字都在 0～n-1 的范围内。数组中某些数字是重复的，但不知道有几个数字重复了，也不知道每个数字重复了几次。请找出数组中任意一个重复的数字。\n",
    "\n",
    "示例 1：\n",
    "\n",
    "输入：\n",
    "[2, 3, 1, 0, 2, 5, 3]\n",
    "输出：2 或 3 \n",
    " \n",
    "\n",
    "限制：\n",
    "\n",
    "2 <= n <= 100000"
   ]
  },
  {
   "cell_type": "code",
   "execution_count": 23,
   "metadata": {},
   "outputs": [],
   "source": [
    "class Solution:\n",
    "    def findRepeatNumber(self, nums):\n",
    "        d = dict()\n",
    "        for i in nums:\n",
    "            d[i] = d.get(i, 0) + 1\n",
    "            if d[i] == 2:\n",
    "                return i"
   ]
  },
  {
   "cell_type": "markdown",
   "metadata": {},
   "source": [
    "## 面试题4 二维数组中的查找 简单\n",
    "在一个 n * m 的二维数组中，每一行都按照从左到右递增的顺序排序，每一列都按照从上到下递增的顺序排序。请完成一个函数，输入这样的一个二维数组和一个整数，判断数组中是否含有该整数。\n",
    "\n",
    " \n",
    "\n",
    "示例:\n",
    "\n",
    "现有矩阵 matrix 如下：\n",
    "\n",
    "[\n",
    "  [1,   4,  7, 11, 15],  \n",
    "  [2,   5,  8, 12, 19],  \n",
    "  [3,   6,  9, 16, 22],  \n",
    "  [10, 13, 14, 17, 24],  \n",
    "  [18, 21, 23, 26, 30]\n",
    "]\n",
    "\n",
    "\n",
    "给定 target = 5，返回 true。\n",
    "\n",
    "给定 target = 20，返回 false。\n",
    "\n",
    " \n",
    "\n",
    "限制：\n",
    "\n",
    "0 <= n <= 1000\n",
    "\n",
    "0 <= m <= 1000\n",
    "\n"
   ]
  },
  {
   "cell_type": "code",
   "execution_count": 24,
   "metadata": {},
   "outputs": [],
   "source": [
    "class Solution:\n",
    "    def findNumberIn2DArray(self, matrix, target):\n",
    "        rowSize = len(matrix)\n",
    "        if(rowSize == 0): return False # 要记得检查edge case\n",
    "        colSize = len(matrix[0])\n",
    "        i = 0\n",
    "        j = colSize - 1\n",
    "        while(i < rowSize and j >= 0):\n",
    "            temp = matrix[i][j]\n",
    "            if(temp > target):\n",
    "                j -= 1\n",
    "            elif(temp < target):\n",
    "                i += 1\n",
    "            else:\n",
    "                return True\n",
    "        return False"
   ]
  },
  {
   "cell_type": "markdown",
   "metadata": {},
   "source": [
    "## 面试题5 替换空格 简单\n",
    "请实现一个函数，把字符串 s 中的每个空格替换成\"%20\"。\n",
    "\n",
    " \n",
    "\n",
    "示例 1：\n",
    "\n",
    "输入：s = \"We are happy.\"\n",
    "输出：\"We%20are%20happy.\"\n",
    " \n",
    "\n",
    "限制：\n",
    "\n",
    "0 <= s 的长度 <= 10000\n",
    "\n"
   ]
  },
  {
   "cell_type": "code",
   "execution_count": 25,
   "metadata": {},
   "outputs": [],
   "source": [
    "class Solution:\n",
    "    def replaceSpace(self, s):\n",
    "        res = \"\"\n",
    "        for i in range(len(s)):\n",
    "            if(s[i] == ' '):\n",
    "                res += \"%20\"\n",
    "            else:\n",
    "                res += s[i]\n",
    "        return res\n",
    "    \n",
    "# s = \"I love you\"\n",
    "# S = Solution()\n",
    "# S.replaceSpace(s)"
   ]
  },
  {
   "cell_type": "markdown",
   "metadata": {},
   "source": [
    "## 面试题6 从尾到头打印链表 简单\n",
    "输入一个链表的头节点，从尾到头反过来返回每个节点的值（用数组返回）。\n",
    "\n",
    " \n",
    "\n",
    "示例 1：\n",
    "\n",
    "输入：head = [1,3,2]\n",
    "输出：[2,3,1]"
   ]
  },
  {
   "cell_type": "code",
   "execution_count": 26,
   "metadata": {},
   "outputs": [],
   "source": [
    "# Definition for singly-linked list.\n",
    "# class ListNode:\n",
    "#     def __init__(self, x):\n",
    "#         self.val = x\n",
    "#         self.next = None\n",
    "\n",
    "class Solution:\n",
    "    def reversePrint(self, head):\n",
    "        stack = []\n",
    "        while(head != None):\n",
    "            stack.append(head.val)\n",
    "            head = head.next\n",
    "        res = []\n",
    "        for i in range(len(stack)):\n",
    "            res.append(stack.pop())\n",
    "        return res"
   ]
  },
  {
   "cell_type": "markdown",
   "metadata": {},
   "source": [
    "## 面试题9 两个栈实现队列 简单\n",
    "用两个栈实现一个队列。队列的声明如下，请实现它的两个函数 appendTail 和 deleteHead ，分别完成在队列尾部插入整数和在队列头部删除整数的功能。(若队列中没有元素，deleteHead 操作返回 -1 )\n",
    "\n",
    " \n",
    "\n",
    "示例 1：\n",
    "\n",
    "输入：\n",
    "[\"CQueue\",\"appendTail\",\"deleteHead\",\"deleteHead\"]   \n",
    "[[],[3],[],[]]   \n",
    "输出：[null,null,3,-1]  \n",
    "示例 2：\n",
    "\n",
    "输入：\n",
    "[\"CQueue\",\"deleteHead\",\"appendTail\",\"appendTail\",\"deleteHead\",\"deleteHead\"]  \n",
    "[[],[],[5],[2],[],[]]  \n",
    "输出：[null,-1,null,null,5,2]  \n",
    "提示：  \n",
    "\n",
    "1 <= values <= 10000\n",
    "最多会对 appendTail、deleteHead 进行 10000 次调用\n",
    "\n"
   ]
  },
  {
   "cell_type": "code",
   "execution_count": null,
   "metadata": {},
   "outputs": [],
   "source": [
    "class CQueue:\n",
    "\n",
    "    def __init__(self):\n",
    "        self.s1 = []\n",
    "        self.s2 = []\n",
    "    def appendTail(self, value: int) -> None:\n",
    "        self.s1.append(value)\n",
    "\n",
    "    def deleteHead(self) -> int:\n",
    "        if(len(self.s2) == 0):\n",
    "            l = len(self.s1)\n",
    "            for i in range(l):\n",
    "                self.s2.append(self.s1.pop())\n",
    "        if(len(self.s2) == 0):\n",
    "            return -1\n",
    "        return self.s2.pop()\n",
    "\n",
    "\n",
    "# Your CQueue object will be instantiated and called as such:\n",
    "# obj = CQueue()\n",
    "# obj.appendTail(value)\n",
    "# param_2 = obj.deleteHead()"
   ]
  },
  {
   "cell_type": "code",
   "execution_count": 4,
   "metadata": {},
   "outputs": [
    {
     "data": {
      "text/plain": [
       "[]"
      ]
     },
     "execution_count": 4,
     "metadata": {},
     "output_type": "execute_result"
    }
   ],
   "source": [
    "a = [1]\n",
    "a.pop()\n",
    "a"
   ]
  },
  {
   "cell_type": "code",
   "execution_count": null,
   "metadata": {},
   "outputs": [],
   "source": []
  },
  {
   "cell_type": "code",
   "execution_count": null,
   "metadata": {},
   "outputs": [],
   "source": []
  },
  {
   "cell_type": "markdown",
   "metadata": {},
   "source": [
    "## 面试题7 重建二叉树 中等"
   ]
  },
  {
   "cell_type": "raw",
   "metadata": {},
   "source": [
    "输入某二叉树的前序遍历和中序遍历的结果，请重建该二叉树。假设输入的前序遍历和中序遍历的结果中都不含重复的数字。\n",
    "\n",
    " \n",
    "\n",
    "例如，给出\n",
    "\n",
    "前序遍历 preorder = [3,9,20,15,7]  \n",
    "中序遍历 inorder = [9,3,15,20,7]  \n",
    "返回如下的二叉树：  \n",
    "\n",
    "    3  \n",
    "   / \\  \n",
    "  9  20  \n",
    "    /  \\  \n",
    "   15   7  \n",
    " \n",
    "\n",
    "限制：\n",
    "\n",
    "0 <= 节点个数 <= 5000"
   ]
  },
  {
   "cell_type": "code",
   "execution_count": null,
   "metadata": {},
   "outputs": [],
   "source": [
    "# Definition for a binary tree node.\n",
    "# class TreeNode:\n",
    "#     def __init__(self, x):\n",
    "#         self.val = x\n",
    "#         self.left = None\n",
    "#         self.right = None\n",
    "\n",
    "class Solution:\n",
    "    def buildTree(self, preorder: List[int], inorder: List[int]) -> TreeNode:\n",
    "        "
   ]
  }
 ],
 "metadata": {
  "kernelspec": {
   "display_name": "Python 3",
   "language": "python",
   "name": "python3"
  },
  "language_info": {
   "codemirror_mode": {
    "name": "ipython",
    "version": 3
   },
   "file_extension": ".py",
   "mimetype": "text/x-python",
   "name": "python",
   "nbconvert_exporter": "python",
   "pygments_lexer": "ipython3",
   "version": "3.7.1"
  },
  "toc": {
   "base_numbering": 1,
   "nav_menu": {},
   "number_sections": true,
   "sideBar": true,
   "skip_h1_title": false,
   "title_cell": "Table of Contents",
   "title_sidebar": "Contents",
   "toc_cell": false,
   "toc_position": {},
   "toc_section_display": true,
   "toc_window_display": false
  }
 },
 "nbformat": 4,
 "nbformat_minor": 2
}
