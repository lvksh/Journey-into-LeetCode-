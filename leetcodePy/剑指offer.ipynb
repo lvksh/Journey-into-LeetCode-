{
 "cells": [
  {
   "cell_type": "markdown",
   "metadata": {},
   "source": [
    "## 面试题3 找出数组中重复的数字。 简单\n",
    "\n",
    "\n",
    "在一个长度为 n 的数组 nums 里的所有数字都在 0～n-1 的范围内。数组中某些数字是重复的，但不知道有几个数字重复了，也不知道每个数字重复了几次。请找出数组中任意一个重复的数字。\n",
    "\n",
    "示例 1：\n",
    "\n",
    "输入：\n",
    "[2, 3, 1, 0, 2, 5, 3]\n",
    "输出：2 或 3 \n",
    " \n",
    "\n",
    "限制：\n",
    "\n",
    "2 <= n <= 100000"
   ]
  },
  {
   "cell_type": "code",
   "execution_count": 23,
   "metadata": {},
   "outputs": [],
   "source": [
    "class Solution:\n",
    "    def findRepeatNumber(self, nums):\n",
    "        d = dict()\n",
    "        for i in nums:\n",
    "            d[i] = d.get(i, 0) + 1\n",
    "            if d[i] == 2:\n",
    "                return i"
   ]
  },
  {
   "cell_type": "markdown",
   "metadata": {},
   "source": [
    "## 面试题4 二维数组中的查找 简单\n",
    "在一个 n * m 的二维数组中，每一行都按照从左到右递增的顺序排序，每一列都按照从上到下递增的顺序排序。请完成一个函数，输入这样的一个二维数组和一个整数，判断数组中是否含有该整数。\n",
    "\n",
    " \n",
    "\n",
    "示例:\n",
    "\n",
    "现有矩阵 matrix 如下：\n",
    "\n",
    "[\n",
    "  [1,   4,  7, 11, 15],  \n",
    "  [2,   5,  8, 12, 19],  \n",
    "  [3,   6,  9, 16, 22],  \n",
    "  [10, 13, 14, 17, 24],  \n",
    "  [18, 21, 23, 26, 30]\n",
    "]\n",
    "\n",
    "\n",
    "给定 target = 5，返回 true。\n",
    "\n",
    "给定 target = 20，返回 false。\n",
    "\n",
    " \n",
    "\n",
    "限制：\n",
    "\n",
    "0 <= n <= 1000\n",
    "\n",
    "0 <= m <= 1000\n",
    "\n"
   ]
  },
  {
   "cell_type": "code",
   "execution_count": 24,
   "metadata": {},
   "outputs": [],
   "source": [
    "class Solution:\n",
    "    def findNumberIn2DArray(self, matrix, target):\n",
    "        rowSize = len(matrix)\n",
    "        if(rowSize == 0): return False # 要记得检查edge case\n",
    "        colSize = len(matrix[0])\n",
    "        i = 0\n",
    "        j = colSize - 1\n",
    "        while(i < rowSize and j >= 0):\n",
    "            temp = matrix[i][j]\n",
    "            if(temp > target):\n",
    "                j -= 1\n",
    "            elif(temp < target):\n",
    "                i += 1\n",
    "            else:\n",
    "                return True\n",
    "        return False"
   ]
  },
  {
   "cell_type": "markdown",
   "metadata": {},
   "source": [
    "## 面试题5 替换空格 简单\n",
    "请实现一个函数，把字符串 s 中的每个空格替换成\"%20\"。\n",
    "\n",
    " \n",
    "\n",
    "示例 1：\n",
    "\n",
    "输入：s = \"We are happy.\"\n",
    "输出：\"We%20are%20happy.\"\n",
    " \n",
    "\n",
    "限制：\n",
    "\n",
    "0 <= s 的长度 <= 10000\n",
    "\n"
   ]
  },
  {
   "cell_type": "code",
   "execution_count": 25,
   "metadata": {},
   "outputs": [],
   "source": [
    "class Solution:\n",
    "    def replaceSpace(self, s):\n",
    "        res = \"\"\n",
    "        for i in range(len(s)):\n",
    "            if(s[i] == ' '):\n",
    "                res += \"%20\"\n",
    "            else:\n",
    "                res += s[i]\n",
    "        return res\n",
    "    \n",
    "# s = \"I love you\"\n",
    "# S = Solution()\n",
    "# S.replaceSpace(s)"
   ]
  },
  {
   "cell_type": "markdown",
   "metadata": {},
   "source": [
    "## 面试题6 从尾到头打印链表 简单\n",
    "输入一个链表的头节点，从尾到头反过来返回每个节点的值（用数组返回）。\n",
    "\n",
    " \n",
    "\n",
    "示例 1：\n",
    "\n",
    "输入：head = [1,3,2]\n",
    "输出：[2,3,1]"
   ]
  },
  {
   "cell_type": "code",
   "execution_count": 26,
   "metadata": {},
   "outputs": [],
   "source": [
    "# Definition for singly-linked list.\n",
    "# class ListNode:\n",
    "#     def __init__(self, x):\n",
    "#         self.val = x\n",
    "#         self.next = None\n",
    "\n",
    "class Solution:\n",
    "    def reversePrint(self, head):\n",
    "        stack = []\n",
    "        while(head != None):\n",
    "            stack.append(head.val)\n",
    "            head = head.next\n",
    "        res = []\n",
    "        for i in range(len(stack)):\n",
    "            res.append(stack.pop())\n",
    "        return res"
   ]
  },
  {
   "cell_type": "markdown",
   "metadata": {},
   "source": [
    "## 面试题9 两个栈实现队列 简单\n",
    "用两个栈实现一个队列。队列的声明如下，请实现它的两个函数 appendTail 和 deleteHead ，分别完成在队列尾部插入整数和在队列头部删除整数的功能。(若队列中没有元素，deleteHead 操作返回 -1 )\n",
    "\n",
    " \n",
    "\n",
    "示例 1：\n",
    "\n",
    "输入：\n",
    "[\"CQueue\",\"appendTail\",\"deleteHead\",\"deleteHead\"]   \n",
    "[[],[3],[],[]]   \n",
    "输出：[null,null,3,-1]  \n",
    "示例 2：\n",
    "\n",
    "输入：\n",
    "[\"CQueue\",\"deleteHead\",\"appendTail\",\"appendTail\",\"deleteHead\",\"deleteHead\"]  \n",
    "[[],[],[5],[2],[],[]]  \n",
    "输出：[null,-1,null,null,5,2]  \n",
    "提示：  \n",
    "\n",
    "1 <= values <= 10000\n",
    "最多会对 appendTail、deleteHead 进行 10000 次调用\n",
    "\n"
   ]
  },
  {
   "cell_type": "code",
   "execution_count": null,
   "metadata": {},
   "outputs": [],
   "source": [
    "class CQueue:\n",
    "\n",
    "    def __init__(self):\n",
    "        self.s1 = []\n",
    "        self.s2 = []\n",
    "    def appendTail(self, value: int) -> None:\n",
    "        self.s1.append(value)\n",
    "\n",
    "    def deleteHead(self) -> int:\n",
    "        if(len(self.s2) == 0):\n",
    "            l = len(self.s1)\n",
    "            for i in range(l):\n",
    "                self.s2.append(self.s1.pop())\n",
    "        if(len(self.s2) == 0):\n",
    "            return -1\n",
    "        return self.s2.pop()\n",
    "\n",
    "\n",
    "# Your CQueue object will be instantiated and called as such:\n",
    "# obj = CQueue()\n",
    "# obj.appendTail(value)\n",
    "# param_2 = obj.deleteHead()"
   ]
  },
  {
   "cell_type": "code",
   "execution_count": 5,
   "metadata": {},
   "outputs": [],
   "source": [
    "d = {0:0, 1:1}"
   ]
  },
  {
   "cell_type": "code",
   "execution_count": 6,
   "metadata": {},
   "outputs": [
    {
     "data": {
      "text/plain": [
       "0"
      ]
     },
     "execution_count": 6,
     "metadata": {},
     "output_type": "execute_result"
    }
   ],
   "source": [
    "d[0]"
   ]
  },
  {
   "cell_type": "code",
   "execution_count": 16,
   "metadata": {},
   "outputs": [
    {
     "data": {
      "text/plain": [
       "937601780"
      ]
     },
     "execution_count": 16,
     "metadata": {},
     "output_type": "execute_result"
    }
   ],
   "source": [
    "d = {0:0, 1:1}\n",
    "class Solution:  \n",
    "    def fib(self, n: int) -> int:\n",
    "        if (n < 2): return d[n] % 1000000007\n",
    "        d[n] = d.get(n , 0) + self.fib(n-1) + self.fib(n-2)\n",
    "        return d[n] % 1000000007\n",
    "    \n",
    "S= Solution()\n",
    "S.fib(35)"
   ]
  },
  {
   "cell_type": "code",
   "execution_count": 18,
   "metadata": {},
   "outputs": [
    {
     "data": {
      "text/plain": [
       "{0: 0,\n",
       " 1: 1,\n",
       " 2: 11624750,\n",
       " 3: 41758967543385,\n",
       " 4: 2241465892388951,\n",
       " 5: 2741201482741176,\n",
       " 6: 1695341251419651,\n",
       " 7: 1047521075592366,\n",
       " 8: 647340470218614,\n",
       " 9: 400213941850127,\n",
       " 10: 247352910320217,\n",
       " 11: 152974227943824,\n",
       " 12: 94228502090051,\n",
       " 13: 58385590693295,\n",
       " 14: 36031194609810,\n",
       " 15: 22318269712441,\n",
       " 16: 13837511432341,\n",
       " 17: 8563586103657,\n",
       " 18: 5282370272011,\n",
       " 19: 3235465675092,\n",
       " 20: 2024333841689,\n",
       " 21: 1237772807337,\n",
       " 22: 746861847259,\n",
       " 23: 476323536115,\n",
       " 24: 288241647583,\n",
       " 25: 179410854601,\n",
       " 26: 112656013322,\n",
       " 27: 67264614669,\n",
       " 28: 42855117956,\n",
       " 29: 26380872165,\n",
       " 30: 16083661306,\n",
       " 31: 9091112510,\n",
       " 32: 5084722946,\n",
       " 33: 2649091942,\n",
       " 34: 2182338893,\n",
       " 35: 1769032587}"
      ]
     },
     "execution_count": 18,
     "metadata": {},
     "output_type": "execute_result"
    }
   ],
   "source": []
  },
  {
   "cell_type": "code",
   "execution_count": 15,
   "metadata": {},
   "outputs": [
    {
     "data": {
      "text/plain": [
       "{0: 0,\n",
       " 1: 1,\n",
       " 2: 1,\n",
       " 3: 2,\n",
       " 4: 3,\n",
       " 5: 5,\n",
       " 6: 8,\n",
       " 7: 13,\n",
       " 8: 21,\n",
       " 9: 34,\n",
       " 10: 55,\n",
       " 11: 89,\n",
       " 12: 144,\n",
       " 13: 233,\n",
       " 14: 377,\n",
       " 15: 610,\n",
       " 16: 987,\n",
       " 17: 1597,\n",
       " 18: 2584,\n",
       " 19: 4181,\n",
       " 20: 6765,\n",
       " 21: 10946,\n",
       " 22: 17711,\n",
       " 23: 28657,\n",
       " 24: 46368,\n",
       " 25: 75025,\n",
       " 26: 121393,\n",
       " 27: 196418,\n",
       " 28: 317811,\n",
       " 29: 514229,\n",
       " 30: 832040,\n",
       " 31: 1346269,\n",
       " 32: 2178309,\n",
       " 33: 3524578,\n",
       " 34: 5702887,\n",
       " 35: 9227465}"
      ]
     },
     "execution_count": 15,
     "metadata": {},
     "output_type": "execute_result"
    }
   ],
   "source": [
    "d"
   ]
  },
  {
   "cell_type": "markdown",
   "metadata": {},
   "source": [
    "## 面试题7 重建二叉树 中等"
   ]
  },
  {
   "cell_type": "raw",
   "metadata": {},
   "source": [
    "输入某二叉树的前序遍历和中序遍历的结果，请重建该二叉树。假设输入的前序遍历和中序遍历的结果中都不含重复的数字。\n",
    "\n",
    " \n",
    "\n",
    "例如，给出\n",
    "\n",
    "前序遍历 preorder = [3,9,20,15,7]  \n",
    "中序遍历 inorder = [9,3,15,20,7]  \n",
    "返回如下的二叉树：  \n",
    "\n",
    "    3  \n",
    "   / \\  \n",
    "  9  20  \n",
    "    /  \\  \n",
    "   15   7  \n",
    " \n",
    "\n",
    "限制：\n",
    "\n",
    "0 <= 节点个数 <= 5000"
   ]
  },
  {
   "cell_type": "code",
   "execution_count": null,
   "metadata": {},
   "outputs": [],
   "source": [
    "# Definition for a binary tree node.\n",
    "# class TreeNode:\n",
    "#     def __init__(self, x):\n",
    "#         self.val = x\n",
    "#         self.left = None\n",
    "#         self.right = None\n",
    "\n",
    "class Solution:\n",
    "    def buildTree(self, preorder: List[int], inorder: List[int]) -> TreeNode:\n",
    "        "
   ]
  },
  {
   "cell_type": "code",
   "execution_count": null,
   "metadata": {},
   "outputs": [],
   "source": []
  },
  {
   "cell_type": "markdown",
   "metadata": {},
   "source": [
    "请设计一个函数，用来判断在一个矩阵中是否存在一条包含某字符串所有字符的路径。路径可以从矩阵中的任意一格开始，每一步可以在矩阵中向左、右、上、下移动一格。如果一条路径经过了矩阵的某一格，那么该路径不能再次进入该格子。例如，在下面的3×4的矩阵中包含一条字符串“bfce”的路径（路径中的字母用加粗标出）。\n",
    "\n",
    "[[\"a\",\"b\",\"c\",\"e\"],\n",
    "[\"s\",\"f\",\"c\",\"s\"],\n",
    "[\"a\",\"d\",\"e\",\"e\"]]\n",
    "\n",
    "但矩阵中不包含字符串“abfb”的路径，因为字符串的第一个字符b占据了矩阵中的第一行第二个格子之后，路径不能再次进入这个格子。\n",
    "\n",
    " \n",
    "\n",
    "示例 1：\n",
    "\n",
    "输入：board = [[\"A\",\"B\",\"C\",\"E\"],[\"S\",\"F\",\"C\",\"S\"],[\"A\",\"D\",\"E\",\"E\"]], word = \"ABCCED\"\n",
    "输出：true\n",
    "示例 2：\n",
    "\n",
    "输入：board = [[\"a\",\"b\"],[\"c\",\"d\"]], word = \"abcd\"\n",
    "输出：false\n",
    "提示：\n",
    "\n",
    "1 <= board.length <= 200\n",
    "1 <= board[i].length <= 200\n",
    "\n"
   ]
  },
  {
   "cell_type": "code",
   "execution_count": 1,
   "metadata": {},
   "outputs": [],
   "source": [
    "a = \"aa\"\n"
   ]
  },
  {
   "cell_type": "code",
   "execution_count": 11,
   "metadata": {},
   "outputs": [
    {
     "name": "stdout",
     "output_type": "stream",
     "text": [
      "0, 0 \n",
      "\n",
      "0, 1 \n",
      "\n",
      "0, 2 \n",
      "\n",
      "0, 3 \n",
      "\n",
      "0, 4 \n",
      "\n",
      "0, 5 \n",
      "\n",
      "1, 0 \n",
      "\n",
      "1, 1 \n",
      "\n",
      "1, 2 \n",
      "\n",
      "1, 3 \n",
      "\n",
      "1, 4 \n",
      "\n",
      "1, 5 \n",
      "\n",
      "2, 0 \n",
      "\n",
      "2, 1 \n",
      "\n",
      "2, 2 \n",
      "\n",
      "2, 3 \n",
      "\n",
      "2, 4 \n",
      "\n",
      "2, 5 \n",
      "\n",
      "3, 0 \n",
      "\n",
      "3, 1 \n",
      "\n",
      "3, 2 \n",
      "\n",
      "3, 3 \n",
      "\n",
      "3, 4 \n",
      "\n",
      "3, 5 \n",
      "\n",
      "4, 0 \n",
      "\n",
      "4, 1 \n",
      "\n",
      "4, 2 \n",
      "\n",
      "4, 3 \n",
      "\n",
      "4, 4 \n",
      "\n",
      "4, 5 \n",
      "\n"
     ]
    }
   ],
   "source": [
    "\n",
    "for i, j in [(row, col) for row in range(5) for col in range(6)]:\n",
    "    print(\"{}, {} \\n\".format(i, j))\n",
    "    "
   ]
  },
  {
   "cell_type": "code",
   "execution_count": null,
   "metadata": {},
   "outputs": [],
   "source": []
  }
 ],
 "metadata": {
  "kernelspec": {
   "display_name": "Python 3",
   "language": "python",
   "name": "python3"
  },
  "language_info": {
   "codemirror_mode": {
    "name": "ipython",
    "version": 3
   },
   "file_extension": ".py",
   "mimetype": "text/x-python",
   "name": "python",
   "nbconvert_exporter": "python",
   "pygments_lexer": "ipython3",
   "version": "3.7.1"
  },
  "toc": {
   "base_numbering": 1,
   "nav_menu": {},
   "number_sections": true,
   "sideBar": true,
   "skip_h1_title": false,
   "title_cell": "Table of Contents",
   "title_sidebar": "Contents",
   "toc_cell": false,
   "toc_position": {},
   "toc_section_display": true,
   "toc_window_display": false
  }
 },
 "nbformat": 4,
 "nbformat_minor": 2
}
